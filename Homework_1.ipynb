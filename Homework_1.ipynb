{
  "nbformat": 4,
  "nbformat_minor": 0,
  "metadata": {
    "colab": {
      "provenance": [],
      "toc_visible": true,
      "authorship_tag": "ABX9TyOBXBTJmEid9SbxYSdQXtSo",
      "include_colab_link": true
    },
    "kernelspec": {
      "name": "python3",
      "display_name": "Python 3"
    },
    "language_info": {
      "name": "python"
    }
  },
  "cells": [
    {
      "cell_type": "markdown",
      "metadata": {
        "id": "view-in-github",
        "colab_type": "text"
      },
      "source": [
        "<a href=\"https://colab.research.google.com/github/ryan-saloma/drl-hw1/blob/main/Homework_1.ipynb\" target=\"_parent\"><img src=\"https://colab.research.google.com/assets/colab-badge.svg\" alt=\"Open In Colab\"/></a>"
      ]
    },
    {
      "cell_type": "markdown",
      "source": [
        "#Set-Up\n"
      ],
      "metadata": {
        "id": "xRXDTRGBSsC2"
      }
    },
    {
      "cell_type": "code",
      "execution_count": 3,
      "metadata": {
        "id": "gT2MIcpONnjo"
      },
      "outputs": [],
      "source": [
        "# Setting up environment\n",
        "!pip install gymnasium\n",
        "import gymnasium as gym\n",
        "import numpy as np\n",
        "env = gym.make('CartPole-v1')"
      ]
    },
    {
      "cell_type": "markdown",
      "source": [
        "# Single-Step Temporal Difference Learning\n"
      ],
      "metadata": {
        "id": "FHVvVG1TEJZy"
      }
    },
    {
      "cell_type": "markdown",
      "source": [
        "#SARSA"
      ],
      "metadata": {
        "id": "1gQ_ioqlEV8n"
      }
    },
    {
      "cell_type": "markdown",
      "source": [
        "#Q-Learning"
      ],
      "metadata": {
        "id": "9NGbAXQREZOo"
      }
    },
    {
      "cell_type": "markdown",
      "source": [
        "# Deep Q-Learning (DQN)"
      ],
      "metadata": {
        "id": "HwsSMEGFEb5x"
      }
    },
    {
      "cell_type": "code",
      "source": [
        "env.close()"
      ],
      "metadata": {
        "id": "quXsgS24xBLI"
      },
      "execution_count": null,
      "outputs": []
    }
  ]
}