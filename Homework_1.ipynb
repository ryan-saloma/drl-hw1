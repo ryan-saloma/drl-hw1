{
  "nbformat": 4,
  "nbformat_minor": 0,
  "metadata": {
    "colab": {
      "provenance": [],
      "authorship_tag": "ABX9TyO4rYwBtY1XLSzJaetb9TDa",
      "include_colab_link": true
    },
    "kernelspec": {
      "name": "python3",
      "display_name": "Python 3"
    },
    "language_info": {
      "name": "python"
    }
  },
  "cells": [
    {
      "cell_type": "markdown",
      "metadata": {
        "id": "view-in-github",
        "colab_type": "text"
      },
      "source": [
        "<a href=\"https://colab.research.google.com/github/ryan-saloma/drl-hw1/blob/main/Homework_1.ipynb\" target=\"_parent\"><img src=\"https://colab.research.google.com/assets/colab-badge.svg\" alt=\"Open In Colab\"/></a>"
      ]
    },
    {
      "cell_type": "markdown",
      "source": [
        "#Set-Up\n"
      ],
      "metadata": {
        "id": "xRXDTRGBSsC2"
      }
    },
    {
      "cell_type": "code",
      "execution_count": null,
      "metadata": {
        "id": "gT2MIcpONnjo"
      },
      "outputs": [],
      "source": [
        "# Setting up environment\n",
        "!pip install gymnasium\n",
        "import gymnasium as gym\n",
        "import numpy as np\n",
        "import pandas as pd\n",
        "import math\n",
        "from sklearn.preprocessing import KBinsDiscretizer\n",
        "env = gym.make('CartPole-v1')"
      ]
    },
    {
      "cell_type": "code",
      "source": [
        "# Understanding action and state spaces\n",
        "print(f\"Action space: {env.action_space}\")\n",
        "print(f\"Observation space: {env.observation_space}\")"
      ],
      "metadata": {
        "id": "uBZvdkZ-wzXQ"
      },
      "execution_count": null,
      "outputs": []
    },
    {
      "cell_type": "markdown",
      "source": [
        "TD-learning, SARSA, and Q-Learning are tabular learning algorithms that store state or state-action values in tables and, therefore, require discrete state spaces. At present, the observation space, henceforth state space, consists of four continuous variables: cart position, cart velocity, pole position, and pole angular velocity. The first thing to do is discretize those variables."
      ],
      "metadata": {
        "id": "9nwYb6DOKjWX"
      }
    },
    {
      "cell_type": "code",
      "source": [
        "\n",
        "# create bins for new state space\n",
        "def create_bins(state_space, numBins = 20):\n",
        "  bins = []\n",
        "  for i in range(4):\n",
        "    bins.append(pd.cut([state_space.low[i],\n",
        "                        state_space.high[i]],\n",
        "                        20).categories)\n",
        "  return bins\n",
        "\n",
        "# returns indexes of bins, which serve as new state space vals\n",
        "def get_bins(observation, bins):\n",
        "  newState = np.empty(0, dtype = int)\n",
        "  for i in range(observation.size):\n",
        "      newState = np.append(newState, int(bins[i].get_loc(observation[i])))\n",
        "  return newState\n",
        "\n",
        "# test if discretization works\n",
        "env.reset()\n",
        "bins = create_bins(env.observation_space)\n",
        "observation, reward, terminated, truncated, info = env.step(env.action_space.sample())\n",
        "newState = np.empty(0, dtype = int)\n",
        "newState = get_bins(observation, bins)\n"
      ],
      "metadata": {
        "id": "g_AYZpKJPGTc"
      },
      "execution_count": null,
      "outputs": []
    },
    {
      "cell_type": "markdown",
      "source": [
        "# Single-Step Temporal Difference Learning\n"
      ],
      "metadata": {
        "id": "FHVvVG1TEJZy"
      }
    },
    {
      "cell_type": "markdown",
      "source": [
        "## Pseudocode\n",
        "\n"
      ],
      "metadata": {
        "id": "Sb9hUieOFAko"
      }
    },
    {
      "cell_type": "markdown",
      "source": [
        "## Code"
      ],
      "metadata": {
        "id": "ne4KxztiHCw6"
      }
    },
    {
      "cell_type": "code",
      "source": [
        "# Discretize state (observation) space\n",
        "env.observation_space.shape\n",
        "def discretize_state_space():\n",
        "  return"
      ],
      "metadata": {
        "id": "-A6UdSicHFxV"
      },
      "execution_count": null,
      "outputs": []
    },
    {
      "cell_type": "markdown",
      "source": [
        "#SARSA"
      ],
      "metadata": {
        "id": "1gQ_ioqlEV8n"
      }
    },
    {
      "cell_type": "markdown",
      "source": [
        "#Q-Learning"
      ],
      "metadata": {
        "id": "9NGbAXQREZOo"
      }
    },
    {
      "cell_type": "markdown",
      "source": [
        "# Deep Q-Learning (DQN)"
      ],
      "metadata": {
        "id": "HwsSMEGFEb5x"
      }
    },
    {
      "cell_type": "code",
      "source": [
        "env.close()"
      ],
      "metadata": {
        "id": "quXsgS24xBLI"
      },
      "execution_count": null,
      "outputs": []
    }
  ]
}