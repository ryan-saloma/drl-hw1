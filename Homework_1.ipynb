{
  "nbformat": 4,
  "nbformat_minor": 0,
  "metadata": {
    "colab": {
      "provenance": [],
      "authorship_tag": "ABX9TyPbgO4tJ85S17rJB0qbOiyp",
      "include_colab_link": true
    },
    "kernelspec": {
      "name": "python3",
      "display_name": "Python 3"
    },
    "language_info": {
      "name": "python"
    }
  },
  "cells": [
    {
      "cell_type": "markdown",
      "metadata": {
        "id": "view-in-github",
        "colab_type": "text"
      },
      "source": [
        "<a href=\"https://colab.research.google.com/github/ryan-saloma/drl-hw1/blob/main/Homework_1.ipynb\" target=\"_parent\"><img src=\"https://colab.research.google.com/assets/colab-badge.svg\" alt=\"Open In Colab\"/></a>"
      ]
    },
    {
      "cell_type": "markdown",
      "source": [
        "#Set-Up\n"
      ],
      "metadata": {
        "id": "xRXDTRGBSsC2"
      }
    },
    {
      "cell_type": "code",
      "execution_count": null,
      "metadata": {
        "id": "gT2MIcpONnjo",
        "colab": {
          "base_uri": "https://localhost:8080/"
        },
        "outputId": "f46afbbd-0a53-4744-f1ec-1cb626caeca1"
      },
      "outputs": [
        {
          "output_type": "stream",
          "name": "stdout",
          "text": [
            "Requirement already satisfied: gymnasium in /usr/local/lib/python3.10/dist-packages (0.29.1)\n",
            "Requirement already satisfied: numpy>=1.21.0 in /usr/local/lib/python3.10/dist-packages (from gymnasium) (1.23.5)\n",
            "Requirement already satisfied: cloudpickle>=1.2.0 in /usr/local/lib/python3.10/dist-packages (from gymnasium) (2.2.1)\n",
            "Requirement already satisfied: typing-extensions>=4.3.0 in /usr/local/lib/python3.10/dist-packages (from gymnasium) (4.5.0)\n",
            "Requirement already satisfied: farama-notifications>=0.0.1 in /usr/local/lib/python3.10/dist-packages (from gymnasium) (0.0.4)\n",
            "Action space: Discrete(2)\n",
            "Observation space: Box([-4.8000002e+00 -3.4028235e+38 -4.1887903e-01 -3.4028235e+38], [4.8000002e+00 3.4028235e+38 4.1887903e-01 3.4028235e+38], (4,), float32)\n"
          ]
        }
      ],
      "source": [
        "# Setting up environment\n",
        "!pip install gymnasium\n",
        "import gymnasium as gym\n",
        "import numpy as np\n",
        "import pandas as pd\n",
        "import math\n",
        "from sklearn.preprocessing import KBinsDiscretizer\n",
        "env = gym.make('CartPole-v1')\n",
        "\n",
        "# Understanding action and state spaces\n",
        "print(f\"Action space: {env.action_space}\")\n",
        "print(f\"Observation space: {env.observation_space}\")"
      ]
    },
    {
      "cell_type": "markdown",
      "source": [
        "TD-learning, SARSA, and Q-Learning are learning algorithms that store state or state-action values in tables and, therefore, require discrete state spaces. At present, the observation space, henceforth state space, consists of four continuous variables: cart position, cart velocity, pole position, and pole angular velocity. The first thing to do is discretize those variables."
      ],
      "metadata": {
        "id": "9nwYb6DOKjWX"
      }
    },
    {
      "cell_type": "code",
      "source": [
        "# create bins\n",
        "# use digitize to return bin number (newState)\n",
        "env.observation_space.low # array of lower bounds\n",
        "env.observation_space.high # array of upper bounds\n",
        "\n",
        "# create bins for each state space var\n",
        "def create_bins(state_space, numBins = 20):\n",
        "  bins = []\n",
        "  for i in range(4):\n",
        "    bins.append(pd.cut([state_space.low[i],\n",
        "                        state_space.high[i]],\n",
        "                        20).categories)\n",
        "  return bins\n",
        "\n",
        "bins = create_bins(env.observation_space)\n",
        "print(bins)\n",
        "\n",
        "\n",
        "# test discretization works\n",
        "\n"
      ],
      "metadata": {
        "id": "g_AYZpKJPGTc"
      },
      "execution_count": null,
      "outputs": []
    },
    {
      "cell_type": "markdown",
      "source": [
        "# Single-Step Temporal Difference Learning\n"
      ],
      "metadata": {
        "id": "FHVvVG1TEJZy"
      }
    },
    {
      "cell_type": "markdown",
      "source": [
        "## Pseudocode\n",
        "\n"
      ],
      "metadata": {
        "id": "Sb9hUieOFAko"
      }
    },
    {
      "cell_type": "markdown",
      "source": [
        "## Code"
      ],
      "metadata": {
        "id": "ne4KxztiHCw6"
      }
    },
    {
      "cell_type": "code",
      "source": [
        "# Discretize state (observation) space\n",
        "env.observation_space.shape\n",
        "def discretize_state_space():\n",
        "  return"
      ],
      "metadata": {
        "id": "-A6UdSicHFxV"
      },
      "execution_count": null,
      "outputs": []
    },
    {
      "cell_type": "markdown",
      "source": [
        "#SARSA"
      ],
      "metadata": {
        "id": "1gQ_ioqlEV8n"
      }
    },
    {
      "cell_type": "markdown",
      "source": [
        "#Q-Learning"
      ],
      "metadata": {
        "id": "9NGbAXQREZOo"
      }
    },
    {
      "cell_type": "markdown",
      "source": [
        "# Deep Q-Learning (DQN)"
      ],
      "metadata": {
        "id": "HwsSMEGFEb5x"
      }
    },
    {
      "cell_type": "code",
      "source": [
        "env.close()"
      ],
      "metadata": {
        "id": "quXsgS24xBLI"
      },
      "execution_count": null,
      "outputs": []
    }
  ]
}