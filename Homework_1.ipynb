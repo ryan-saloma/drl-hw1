{
  "nbformat": 4,
  "nbformat_minor": 0,
  "metadata": {
    "colab": {
      "provenance": [],
      "authorship_tag": "ABX9TyPy9HyD4dnjmzOw6aevBHbK",
      "include_colab_link": true
    },
    "kernelspec": {
      "name": "python3",
      "display_name": "Python 3"
    },
    "language_info": {
      "name": "python"
    }
  },
  "cells": [
    {
      "cell_type": "markdown",
      "metadata": {
        "id": "view-in-github",
        "colab_type": "text"
      },
      "source": [
        "<a href=\"https://colab.research.google.com/github/ryan-saloma/drl-hw1/blob/main/Homework_1.ipynb\" target=\"_parent\"><img src=\"https://colab.research.google.com/assets/colab-badge.svg\" alt=\"Open In Colab\"/></a>"
      ]
    },
    {
      "cell_type": "markdown",
      "source": [
        "#Set-Up\n"
      ],
      "metadata": {
        "id": "xRXDTRGBSsC2"
      }
    },
    {
      "cell_type": "code",
      "execution_count": null,
      "metadata": {
        "id": "gT2MIcpONnjo"
      },
      "outputs": [],
      "source": [
        "# Setting up environment\n",
        "!pip install gymnasium\n",
        "import gymnasium as gym\n",
        "import numpy as np\n",
        "import pandas as pd\n",
        "from sklearn.preprocessing import KBinsDiscretizer\n",
        "env = gym.make('CartPole-v1')\n",
        "\n",
        "# Understanding action and state spaces\n",
        "print(f\"Action space: {env.action_space}\")\n",
        "print(f\"Observation space: {env.observation_space}\")"
      ]
    },
    {
      "cell_type": "markdown",
      "source": [
        "TD-learning, SARSA, and Q-Learning are learning algorithms that store state or state-action values in tables and, therefore, require discrete state spaces. At present, the observation space, henceforth state space, consists of four continuous variables: cart position, cart velocity, pole position, and pole angular velocity. The first thing to do is discretize those variables."
      ],
      "metadata": {
        "id": "9nwYb6DOKjWX"
      }
    },
    {
      "cell_type": "code",
      "source": [
        "# create bins\n",
        "# use digitize to return bin number (newState)\n",
        "env.observation_space.low # array of lower bounds\n",
        "env.observation_space.high # array of upper bounds\n",
        "\n",
        "\n",
        "# test discretization works\n",
        "\n"
      ],
      "metadata": {
        "colab": {
          "base_uri": "https://localhost:8080/"
        },
        "id": "g_AYZpKJPGTc",
        "outputId": "c3c90ff9-bb0c-4cb5-9cdc-9609b1bd3d78"
      },
      "execution_count": 18,
      "outputs": [
        {
          "output_type": "execute_result",
          "data": {
            "text/plain": [
              "array([-4.8000002e+00, -3.4028235e+38, -4.1887903e-01, -3.4028235e+38],\n",
              "      dtype=float32)"
            ]
          },
          "metadata": {},
          "execution_count": 18
        }
      ]
    },
    {
      "cell_type": "markdown",
      "source": [
        "# Single-Step Temporal Difference Learning\n"
      ],
      "metadata": {
        "id": "FHVvVG1TEJZy"
      }
    },
    {
      "cell_type": "markdown",
      "source": [
        "## Pseudocode\n",
        "\n"
      ],
      "metadata": {
        "id": "Sb9hUieOFAko"
      }
    },
    {
      "cell_type": "markdown",
      "source": [
        "## Code"
      ],
      "metadata": {
        "id": "ne4KxztiHCw6"
      }
    },
    {
      "cell_type": "code",
      "source": [
        "# Discretize state (observation) space\n",
        "env.observation_space.shape\n",
        "def discretize_state_space():\n",
        "  return"
      ],
      "metadata": {
        "id": "-A6UdSicHFxV"
      },
      "execution_count": 8,
      "outputs": []
    },
    {
      "cell_type": "markdown",
      "source": [
        "#SARSA"
      ],
      "metadata": {
        "id": "1gQ_ioqlEV8n"
      }
    },
    {
      "cell_type": "markdown",
      "source": [
        "#Q-Learning"
      ],
      "metadata": {
        "id": "9NGbAXQREZOo"
      }
    },
    {
      "cell_type": "markdown",
      "source": [
        "# Deep Q-Learning (DQN)"
      ],
      "metadata": {
        "id": "HwsSMEGFEb5x"
      }
    },
    {
      "cell_type": "code",
      "source": [
        "env.close()"
      ],
      "metadata": {
        "id": "quXsgS24xBLI"
      },
      "execution_count": null,
      "outputs": []
    }
  ]
}